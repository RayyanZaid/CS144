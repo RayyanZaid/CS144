{
 "cells": [
  {
   "cell_type": "markdown",
   "metadata": {},
   "source": [
    "<hr style=\"height:5px;border-width:2;color:gray;background-color:#000000\"> \n",
    "<center><h1>CS 144 - Winter 2024 - Mini-Assembler</h1></center>\n",
    "<center><h1>Due: Sunday, March 17th, 2024 @ 11:59pm</h1></center>"
   ]
  },
  {
   "cell_type": "markdown",
   "metadata": {},
   "source": [
    "### Enter your information below:\n",
    "\n",
    "<div style=\"color: #000000;background-color: #EEEEFF\">\n",
    "    Your Name (submitter):  <br>\n",
    "    Your student ID (submitter):\n",
    "<br>\n",
    "<br>\n",
    "<b>By submitting this notebook, I assert that the work below is my own work, completed for this course.  Except where explicitly cited, none of the portions of this notebook are duplicated from anyone else's work or my own previous work.</b>\n",
    "<br>    \n",
    "<br>\n",
    "<b>Instruction for submissions:</B> when you have completed this project, download this .ipynb file to your computer by left-clicking on the file name, and submit to <a href=\"https://elearn.ucr.edu/\">Canvas</A> by the deadline. \n",
    "<br>\n",
    "<br>\n",
    "<B>Late work:</B> There is no late deadline for the final project, except for the most serious circumstances (illness, medical emergency, etc.) which have to documented.\n",
    "</div>\n"
   ]
  },
  {
   "cell_type": "markdown",
   "metadata": {},
   "source": [
    "<hr style=\"height:5px;border-width:2;color:gray;background-color:#000000\"> \n",
    "<center><h1>Assembler</h1></center>\n",
    "<br>\n",
    "\n",
    "\n",
    "The objective of this project is to implement software to assemble a (very short and non-repetitive) genome from synthetic reads. Here we assume that reads have no sequencing errors. (Credit: Ben Langmead)\n",
    "\n",
    "\n",
    "**Step 1:** Let's get the reads in FASTA format. The reads come from the same synthetic genome and each is 100 bp long. For simplicity, these reads don't have any quality values. "
   ]
  },
  {
   "cell_type": "code",
   "execution_count": 1,
   "metadata": {},
   "outputs": [
    {
     "name": "stderr",
     "output_type": "stream",
     "text": [
      "--2024-02-12 00:24:20--  http://www.cs.ucr.edu/~stelo/cs144winter24/data/reads.fa\n",
      "Resolving www.cs.ucr.edu (www.cs.ucr.edu)... 169.235.30.15\n",
      "Connecting to www.cs.ucr.edu (www.cs.ucr.edu)|169.235.30.15|:80... connected.\n",
      "HTTP request sent, awaiting response... 200 OK\n",
      "Length: 545000 (532K)\n",
      "Saving to: 'reads.fa'\n",
      "\n",
      "     0K .......... .......... .......... .......... ..........  9%  446K 1s\n",
      "    50K .......... .......... .......... .......... .......... 18% 5.29M 1s\n",
      "   100K .......... .......... .......... .......... .......... 28% 2.80M 0s\n",
      "   150K .......... .......... .......... .......... .......... 37% 47.1M 0s\n",
      "   200K .......... .......... .......... .......... .......... 46% 5.81M 0s\n",
      "   250K .......... .......... .......... .......... .......... 56% 4.83M 0s\n",
      "   300K .......... .......... .......... .......... .......... 65% 37.0M 0s\n",
      "   350K .......... .......... .......... .......... .......... 75% 7.82M 0s\n",
      "   400K .......... .......... .......... .......... .......... 84% 12.9M 0s\n",
      "   450K .......... .......... .......... .......... .......... 93% 5.51M 0s\n",
      "   500K .......... .......... .......... ..                   100% 46.7M=0.2s\n",
      "\n",
      "2024-02-12 00:24:20 (2.90 MB/s) - 'reads.fa' saved [545000/545000]\n",
      "\n"
     ]
    }
   ],
   "source": [
    "!wget http://www.cs.ucr.edu/~stelo/cs144winter24/data/reads.fa"
   ]
  },
  {
   "cell_type": "markdown",
   "metadata": {},
   "source": [
    "**Step 2:** Write code to find each read's *best buddy to the right* with a time-efficient algorithm. For each read **A**, find the other read **B** that has the **longest** suffix/prefix exact match with **A**. In other words, if a suffix of **A** matches a prefix of **B**, **B** is **A**'s *best buddy* to the right. **However**, if there is a tie, or if the longest suffix/prefix match is less than 40 nucleotides long, then **A** *has no best buddy to the right*.  For each read, your program should output either (a) nothing, if there is no best buddy to the right, or (b) a single, space-separated line with the IDs of **A** and **B** and the length of the overlap, like this:\n",
    "\n",
    "    0255/2 2065/1 88\n",
    "\n",
    "This indicates a 88 bp suffix of the read with ID **0255/2** that matches a prefix of the read with ID **2065/1**.  Because of how we defined best buddy, it also means no other read besides **2065/1** has a prefix of 88bp or longer that is also a suffix of read **0255/2**.  A corrolary of this is that a particular read ID should appear in the first column of your program's output at most once.  Also, since we require the overlap to be at least 40 bases long, the last column should not contain any number smaller than 40.\n",
    "\n",
    "Notes:\n",
    "* You can assume all reads are error-free and from the forward strand.  In other words, you do **not** need to consider sequencing errors or reverse complements\n",
    "* The order of the output lines is not important\n",
    "* Reading/parsing the FASTA files can be done with BioPython, or by borrowing code from <A HREF=\"https://nbviewer.jupyter.org/github/BenLangmead/comp-genomics-class/blob/master/notebooks/FASTA.ipynb\">this</A> if you want your own custom solution\n",
    "\n",
    "Important: Try to avoid comparing every read to every other read when looking for suffix/prefix matches. This can be achieved by grouping \"similar\" reads, that is reads that share common k-mers.  For instance, you can build a dictionary where the keys are k-mers and the values are sets containing the names of all reads containing that k-mer.  Since you are looking for overlaps of length at least 40, you only need to compare reads if they have at least 1 40-mer in common.\n",
    "\n",
    "You are allowed to use any Python package that you want. You should be able install packages using `!pip install package`. Remember that it is mandatory to acknowledge sources."
   ]
  },
  {
   "cell_type": "code",
   "execution_count": null,
   "metadata": {},
   "outputs": [],
   "source": [
    "## YOUR CODE HERE\n",
    "## you are allowed to use any python library you want"
   ]
  },
  {
   "cell_type": "markdown",
   "metadata": {},
   "source": [
    "**Step 3:** Write a program that takes the output of the overlap program from Step 2 and creates **uni**quely assemblable con**tigs** (unitigs), using the algorithm described below.\n",
    "\n",
    "We already determined each read's best buddy *to the right*.  I'll abbreviate this as bbr.  We did not attempt to compute each read's best buddy *to the left* (bbl), but we can infer it from the bbrs.  Consider the following output:\n",
    "\n",
    "    A B 60\n",
    "    E A 40\n",
    "    C B 70\n",
    "    D C 40\n",
    "\n",
    "**A**'s bbr is **B**.  But **B**'s bbl is **C**, *not* **A**!  Your program should form unitigs by joining together two reads **X** and **Y** if they are *mutual best buddies*.  **X** and **Y** are mutual best buddies if **X**'s bbr is **Y** **and** **Y**'s bbl is **X**, or vice versa.  In this example, we would join **D**, **C**, and **B** into a single unitig (and in that order), and would join reads **E** and **A** into a single unitig (also in that order).\n",
    "\n",
    "Your program's output should consist of several entries like the following, with one entry per unitig:\n",
    "\n",
    "    START UNITIG 1 D\n",
    "      C 40\n",
    "      B 70\n",
    "    END UNITIG 1\n",
    "    START UNITIG 2 E\n",
    "      A 40\n",
    "    END UNITIG 2\n",
    "\n",
    "The first entry represents a unitig with ID **1** consisting of 3 reads.  The first (leftmost) read is **D**.  The second read, **C**, has a **40** nt prefix that is a suffix of the previous read (**D**).  The third (rightmost) read in the contig (**B**) has a **70** bp prefix that is a suffix of the previous read (**C**).\n",
    "\n",
    "Each read should be contained in exactly one unitig.  The order of unitigs in the file is not important, but the unitig IDs should be integers and assigned in ascending order.\n",
    "\n",
    "You are allowed to use any Python package that you want but it is mandatory to acknowledge sources.\n",
    "\n",
    "**Hint:** the correct solution for this particular input consists of exactly 4 unitigs"
   ]
  },
  {
   "cell_type": "code",
   "execution_count": null,
   "metadata": {},
   "outputs": [],
   "source": [
    "## YOUR CODE HERE\n",
    "## you are allowed to use any python library you want"
   ]
  },
  {
   "cell_type": "markdown",
   "metadata": {},
   "source": [
    "**Step 4**: Write a program that produces the final genome by processing the unitig file. This requires that you compare the unitigs to each other, think about what order they must go in, and then put them together accordingly. The final genome should be written in FASTA format (again, use BioPython or write your own code). You are allowed to use any Python package that you want, but it is mandatory to acknowledge sources.\n",
    "\n",
    "**Hints:**\n",
    "\n",
    "* the correct genome is 7959 nucleotides long\n",
    "* to learn how the unitigs should go together, try overlapping them with each other\n",
    "* a unitig can be used more than once in the solution"
   ]
  },
  {
   "cell_type": "code",
   "execution_count": null,
   "metadata": {},
   "outputs": [],
   "source": [
    "## YOUR CODE HERE\n",
    "## you are allowed to use any python library you want"
   ]
  }
 ],
 "metadata": {
  "kernelspec": {
   "display_name": "cs144_env",
   "language": "python",
   "name": "python3"
  },
  "language_info": {
   "codemirror_mode": {
    "name": "ipython",
    "version": 3
   },
   "file_extension": ".py",
   "mimetype": "text/x-python",
   "name": "python",
   "nbconvert_exporter": "python",
   "pygments_lexer": "ipython3",
   "version": "3.12.1"
  }
 },
 "nbformat": 4,
 "nbformat_minor": 4
}
