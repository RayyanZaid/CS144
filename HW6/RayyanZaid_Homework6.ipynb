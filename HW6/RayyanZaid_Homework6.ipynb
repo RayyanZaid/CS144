{
 "cells": [
  {
   "cell_type": "markdown",
   "metadata": {},
   "source": [
    "<hr style=\"height:5px;border-width:2;color:gray;background-color:#000000\"> \n",
    "<center><h1>CS 144 - Winter 2024 - Homework 6</h1></center>\n",
    "<center><h1>Due: Sunday, March 3, 2024 @ 11:59pm</h1></center>"
   ]
  },
  {
   "cell_type": "markdown",
   "metadata": {},
   "source": [
    "## Read *all* cells carefully and answer all parts (both text and code)"
   ]
  },
  {
   "cell_type": "markdown",
   "metadata": {},
   "source": [
    "### Enter your information below:\n",
    "\n",
    "<div style=\"color: #000000;background-color: #EEEEFF\">\n",
    "    Your Name (submitter): Rayyan Zaid <br>\n",
    "    Your student ID (submitter): 862291205\n",
    "<br>\n",
    "<br>\n",
    "<b>By submitting this notebook, I assert that the work below is my own work, completed for this course.  Except where explicitly cited, none of the portions of this notebook are duplicated from anyone else's work or my own previous work.</b>\n",
    "<br>    \n",
    "<br>\n",
    "<b>Instruction for submissions:</B> when you have completed this homework, download this .ipynb file to your computer by left-clicking on the file name, and submit to <a href=\"https://elearn.ucr.edu/\">Canvas</A> by the deadline. \n",
    "<br>\n",
    "<br>\n",
    "<B>Late work:</B> Each student is granted five \"late days\" which can be used (in integer units) on any of the homework. If a more dire situation arises, please contact the instructor. DO NOT RESORT TO CHEATING.\n",
    "</div>\n"
   ]
  },
  {
   "cell_type": "markdown",
   "metadata": {},
   "source": [
    "<hr style=\"height:5px;border-width:2;color:gray;background-color:#000000\"> \n",
    "<center><h1>Chapter 5: HMM</h1></center> \n",
    "<br>\n",
    "\n",
    "As usual, in the interest of time, we will <b>skip</b> the following coding challenges on Chapter 5 in the book\n",
    "<UL>\n",
    "<LI><A HREF=\"https://cogniterra.org/lesson/34111/step/10?unit=25957\">Solve the Probability of an Outcome Given a Hidden Path Problem</A></LI>\n",
    "<LI><A HREF=\"https://cogniterra.org/lesson/34113/step/4?unit=25959\">Solve the Outcome Likelihood Problem</A></LI>\n",
    "<LI><A HREF=\"https://cogniterra.org/lesson/34114/step/15?unit=25960\">Solve the Profile HMM Problem</A></LI>\n",
    "<LI><A HREF=\"https://cogniterra.org/lesson/34115/step/5?unit=25961\">Solve the Profile HMM with Pseudocounts Problem</A></LI>\n",
    "<LI><A HREF=\"https://cogniterra.org/lesson/34115/step/14?unit=25961\">Solve the Sequence Alignment with Profile HMM Problem</A></LI>\n",
    "<LI><A HREF=\"https://cogniterra.org/lesson/34116/step/4?unit=25962\">Solve the HMM Parameter Estimation Problem</A></LI>\n",
    "<LI><A HREF=\"https://cogniterra.org/lesson/34116/step/8?unit=25962\">Implement Viterbi learning for estimating the parameters of an HMM</A></LI>\n",
    "<LI><A HREF=\"https://cogniterra.org/lesson/34117/step/5?unit=25963\">Solve the Soft Decoding Problem</A></LI>\n",
    "<LI><A HREF=\"https://cogniterra.org/lesson/34118/step/5?unit=25964\">Implement Baum-Welch Learning</A></LI>\n",
    " </UL>\n",
    "Those challenges above are OPTIONAL. They are good problems, but you do not need to solve it, unless you feel inclined to do so."
   ]
  },
  {
   "cell_type": "markdown",
   "metadata": {},
   "source": [
    "<hr style=\"height:5px;border-width:2;color:gray;background-color:#000000\"> \n",
    "<center><h1>Probability of a (hidden) state path</h1></center> \n",
    "<br>\n",
    "In this question you will compute the probability of a particular state path given the transition probabilities."
   ]
  },
  {
   "cell_type": "markdown",
   "metadata": {},
   "source": [
    "<div style=\"color: #000000;background-color: #EEFFEE\">\n",
    "    <font size=+2>Question 1:</font> <font size=+1>(10 points)</font>\n",
    "\n",
    "Solve the <A HREF=\"https://cogniterra.org/lesson/34111/step/8?unit=25957\">Probability of a Hidden Path Problem.</A> Submit your solution to the challenge on Cogniterra and provide your Python code below.\n",
    "    \n",
    "We provide below the function `readinput1` that parses the file format produced by Cogniterra and the skeleton of the function `PHP` (Probability of a Hidden Path). You are free to use this code, or create your own. \n",
    "    \n",
    "Cogniterra will accept answers in scientific notation and within a 10% error from the correct answer.\n",
    "    \n",
    "The wget below fetches the test file formatted as provided by Cogniterra.\n",
    "</div>"
   ]
  },
  {
   "cell_type": "code",
   "execution_count": 1,
   "metadata": {},
   "outputs": [
    {
     "name": "stderr",
     "output_type": "stream",
     "text": [
      "--2024-02-27 17:10:55--  http://www.cs.ucr.edu/~stelo/cs144winter24/data/hw6_test1.txt\n",
      "Resolving www.cs.ucr.edu (www.cs.ucr.edu)... 169.235.30.15\n",
      "Connecting to www.cs.ucr.edu (www.cs.ucr.edu)|169.235.30.15|:80... connected.\n",
      "HTTP request sent, awaiting response... 200 OK\n",
      "Length: 64 [text/plain]\n",
      "Saving to: 'hw6_test1.txt'\n",
      "\n",
      "     0K                                                       100% 1.70M=0s\n",
      "\n",
      "2024-02-27 17:10:55 (1.70 MB/s) - 'hw6_test1.txt' saved [64/64]\n",
      "\n"
     ]
    }
   ],
   "source": [
    "!wget http://www.cs.ucr.edu/~stelo/cs144winter24/data/hw6_test1.txt"
   ]
  },
  {
   "cell_type": "code",
   "execution_count": 7,
   "metadata": {},
   "outputs": [
    {
     "name": "stdout",
     "output_type": "stream",
     "text": [
      "The path is ['B', 'A', 'A', 'B', 'B', 'B', 'B', 'B', 'B', 'B', 'B', 'A', 'B', 'B', 'A', 'B', 'B', 'B', 'B', 'B', 'B', 'A', 'A', 'B', 'A', 'B', 'B', 'B', 'B', 'A', 'B', 'A', 'B', 'A', 'A', 'B', 'A', 'A', 'A', 'B', 'B', 'B', 'B', 'B', 'B', 'B', 'B', 'A', 'B', 'A']\n",
      "Transition matrix is {'A': {'A': 0.391, 'B': 0.609}, 'B': {'A': 0.543, 'B': 0.457}}\n",
      "The initial probability for each state is 0.5\n",
      "The probability of BAABBBBBBBBABBABBBBBBAABABBBBABABAABAAABBBBBBBBABA is 5.846520068073385e-16\n"
     ]
    }
   ],
   "source": [
    "# no libraries allowed except for numpy (if needed)\n",
    "\n",
    "def PHP(path, trans, initial_prob):\n",
    "    \"\"\" computes the probability of the path from\n",
    "        transition matrix and the initial probability\"\"\"\n",
    "    php = initial_prob\n",
    "    \n",
    "\n",
    "    for i in range(len(path) - 1):\n",
    "\n",
    "        currLetter = path[i]\n",
    "        nextLetter = path[i+1]\n",
    "\n",
    "        trans_prob = trans[currLetter][nextLetter]\n",
    "\n",
    "        php *= trans_prob\n",
    "\n",
    "\n",
    "    return php\n",
    "\n",
    "def readinput1(file):\n",
    "    \"\"\" process the file describing the input to the problem as produced by Cogniterra;\n",
    "        returns path, transition probabilities, and the initial probability for each state \"\"\"\n",
    "    f = open(file, \"r\")\n",
    "    input = ''\n",
    "    for x in f:\n",
    "        input += x\n",
    "    input = input.replace(\"\\t\",\" \")\n",
    "    path, states, trans = input.split('--------')\n",
    "    path = list(path.strip())\n",
    "    states = states.strip().split(' ')\n",
    "    translist = trans.strip().split(\"\\n\")\n",
    "    translist = translist[1:]\n",
    "    trans_dict = {}\n",
    "    for i in range(len(translist)):\n",
    "        trans_dict[states[i]] = {}\n",
    "        temp = list(map(float,translist[i].strip().split(' ')[1:]))\n",
    "        for s in range(len(states)):\n",
    "            trans_dict[states[i]][states[s]]=temp[s]\n",
    "    #we assume initial probability is the same for each state, that is 1.0/len(trans_dict)\n",
    "    return path, trans_dict, 1.0/len(trans_dict)\n",
    "\n",
    "# get the parameters of the problem\n",
    "p, t, i = readinput1(\"dataset_34111_8.txt\")\n",
    "print('The path is',p)\n",
    "print('Transition matrix is', t)\n",
    "print('The initial probability for each state is',i)\n",
    "# computes the probability of the path\n",
    "print('The probability of',''.join(p),'is', PHP(p,t,i))"
   ]
  },
  {
   "cell_type": "markdown",
   "metadata": {},
   "source": [
    "<hr style=\"height:5px;border-width:2;color:gray;background-color:#000000\"> \n",
    "<center><h1>Viterbi algorithm</h1></center>\n",
    "\n",
    "In this question you will implement Viterbi's decoding algorithm for HMMs, which is based on dynamic programming."
   ]
  },
  {
   "cell_type": "markdown",
   "metadata": {},
   "source": [
    "<div style=\"color: #000000;background-color: #EEFFEE\">\n",
    "    <font size=+2>Question 2:</font> <font size=+1>(20 points)</font>\n",
    "\n",
    "Implement the <A HREF=\"https://cogniterra.org/lesson/34112/step/7?unit=25958\"> Viterbi algorithm for solving the Decoding Problem.</A> Submit your solution to the challenge on Cogniterra and paste your Python code below.\n",
    "\n",
    "We provide below the function `readinput2` that parses the input format and the skeleton of `viterbi`. You are free to use this code, or create your own. \n",
    "    \n",
    "You can check any on-line description/pseudo-code of Viterbi, e.g., <A HREF=\"https://en.wikipedia.org/wiki/Viterbi_algorithm\">wikipedia</A>, but you have to write your own code without any ML library.\n",
    "     \n",
    "The wget below fetches the test file formatted as provided by Cogniterra.\n",
    "\n",
    "</div>"
   ]
  },
  {
   "cell_type": "code",
   "execution_count": 8,
   "metadata": {},
   "outputs": [
    {
     "name": "stderr",
     "output_type": "stream",
     "text": [
      "--2024-02-27 19:30:40--  http://www.cs.ucr.edu/~stelo/cs144winter24/data/hw6_test2.txt\n",
      "Resolving www.cs.ucr.edu (www.cs.ucr.edu)... 169.235.30.15\n",
      "Connecting to www.cs.ucr.edu (www.cs.ucr.edu)|169.235.30.15|:80... connected.\n",
      "HTTP request sent, awaiting response... 200 OK\n",
      "Length: 135 [text/plain]\n",
      "Saving to: 'hw6_test2.txt'\n",
      "\n",
      "     0K                                                       100% 3.53M=0s\n",
      "\n",
      "2024-02-27 19:30:40 (3.53 MB/s) - 'hw6_test2.txt' saved [135/135]\n",
      "\n"
     ]
    }
   ],
   "source": [
    "!wget http://www.cs.ucr.edu/~stelo/cs144winter24/data/hw6_test2.txt"
   ]
  },
  {
   "cell_type": "code",
   "execution_count": 29,
   "metadata": {},
   "outputs": [
    {
     "name": "stdout",
     "output_type": "stream",
     "text": [
      "string = ['y', 'z', 'z', 'y', 'y', 'x', 'y', 'y', 'z', 'z', 'x', 'z', 'y', 'z', 'x', 'z', 'y', 'x', 'x', 'z', 'z', 'y', 'y', 'y', 'y', 'y', 'y', 'z', 'x', 'y', 'z', 'y', 'z', 'y', 'z', 'y', 'y', 'z', 'y', 'x', 'x', 'y', 'z', 'y', 'y', 'x', 'y', 'z', 'z', 'x', 'y', 'y', 'x', 'x', 'y', 'x', 'z', 'z', 'y', 'z', 'x', 'x', 'z', 'y', 'x', 'x', 'y', 'z', 'x', 'y', 'y', 'y', 'y', 'x', 'y', 'y', 'z', 'y', 'y', 'z', 'z', 'y', 'z', 'x', 'y', 'x', 'x', 'x', 'y', 'y', 'y', 'y', 'z', 'x', 'x', 'z', 'z', 'z', 'y', 'x']\n",
      "alphabet = ['x', 'y', 'z']\n",
      "states = ['A', 'B']\n",
      "initial probabilities = {'A': 0.5, 'B': 0.5}\n",
      "transition probabilities = {'A': {'A': 0.066, 'B': 0.934}, 'B': {'A': 0.399, 'B': 0.601}}\n",
      "emission probabilities = {'A': {'x': 0.362, 'y': 0.505, 'z': 0.133}, 'B': {'x': 0.255, 'y': 0.715, 'z': 0.03}}\n",
      "The most probable path is: ABABBABBBABABABABBABABBBBBBABBABABABBABBABABBABABABBBABABABABBABBABABBBBBABBABBBABABBABABBBBABBABABB\n"
     ]
    }
   ],
   "source": [
    "import math\n",
    "\n",
    "def viterbi(s, states, start_p, trans_p, emit_p):\n",
    "    \"\"\"Computes the most probable path for string s using the Viterbi algorithm.\"\"\"\n",
    "    V = [{}]  \n",
    "    path = {}  \n",
    "\n",
    "    # Initialize base cases\n",
    "    for y in states:\n",
    "        V[0][y] = math.log(start_p[y]) + math.log(emit_p[y][s[0]])\n",
    "        path[y] = [y]\n",
    "\n",
    "\n",
    "    for t in range(1, len(s)):\n",
    "        V.append({})\n",
    "        newpath = {}\n",
    "\n",
    "        for curr_state in states:\n",
    "\n",
    "            max_prob = float('-inf')\n",
    "            max_state = None\n",
    "\n",
    "            for prev_state in states:\n",
    "                prob = V[t - 1][prev_state] + math.log(trans_p[prev_state][curr_state]) + math.log(emit_p[curr_state][s[t]])\n",
    "                if prob > max_prob:\n",
    "                    max_prob = prob\n",
    "                    max_state = prev_state\n",
    "\n",
    "            V[t][curr_state] = max_prob\n",
    "            newpath[curr_state] = path[max_state] + [curr_state]\n",
    "\n",
    "\n",
    "        # don't care abt prev column\n",
    "            \n",
    "        path = newpath\n",
    "\n",
    "    # Identify the ending most probable state\n",
    "    n = len(s) - 1\n",
    "    max_prob = float('-inf')\n",
    "    max_state = None\n",
    "\n",
    "    for y in states:\n",
    "\n",
    "        if V[n][y] > max_prob:\n",
    "            max_prob = V[n][y]\n",
    "            max_state = y\n",
    "\n",
    "\n",
    "    mostProbableSequence = \"\"\n",
    "\n",
    "    for eachState in path[max_state]:\n",
    "        mostProbableSequence += eachState\n",
    "\n",
    "    return mostProbableSequence\n",
    "\n",
    "def readinput2(file):\n",
    "    \"\"\" process the file describing the HMM as produced by Cogniterra;\n",
    "        returns observations, alphabet, states, initial probabilities, transition probabilities\n",
    "        and emission probabilities \"\"\"\n",
    "    f = open(file, \"r\")\n",
    "    dataset = ''\n",
    "    for x in f:\n",
    "        dataset += x\n",
    "    dataset = dataset.replace(\"\\t\",\" \")\n",
    "    observations, alphabet, states, trans, emi = dataset.split('--------')\n",
    "    observations = list(observations.strip())\n",
    "    states = states.strip().split(' ')\n",
    "    translist = trans.strip().split(\"\\n\")[1:]\n",
    "    trans_dict = {}\n",
    "    alphabet = alphabet.strip().split(\" \")\n",
    "    for i in range(len(translist)):\n",
    "        trans_dict[states[i]] = {}\n",
    "        temp = list(map(float,translist[i].strip().split(' ')[1:]))\n",
    "        for s in range(len(states)):\n",
    "            trans_dict[states[i]][states[s]]=temp[s]\n",
    "    emilist = emi.strip().split('\\n')[1:]\n",
    "    emi_dict = {}\n",
    "    num_emistates = len(emilist[0].strip().split(' ')[1:])\n",
    "    for i in range(len(emilist)):\n",
    "        emi_dict[states[i]] = {}\n",
    "        temp = list(map(float,emilist[i].strip().split(' ')[1:]))\n",
    "        for s in range(num_emistates):\n",
    "            emi_dict[states[i]][alphabet[s]]=temp[s]\n",
    "    # initial probabilities are all equal\n",
    "    initial_probs = {}\n",
    "    for i in trans_dict:\n",
    "        initial_probs[i] = 1.0/len(trans_dict)\n",
    "    f.close()\n",
    "    return (observations, alphabet, states, initial_probs, trans_dict, emi_dict)\n",
    "\n",
    "# Now you can use the unmodified readinput2 function and the viterbi function with your main code block\n",
    "string, alphabet, states, initial_probs, trans_dict, emi_dict = readinput2(\"dataset_34112_7.txt\")\n",
    "most_probable_path = viterbi(string, states, initial_probs, trans_dict, emi_dict)\n",
    "print('string =', string)\n",
    "print('alphabet =', alphabet)\n",
    "print('states =', states)\n",
    "print('initial probabilities =', initial_probs)\n",
    "print('transition probabilities =', trans_dict)\n",
    "print('emission probabilities =', emi_dict)\n",
    "print('The most probable path is:', most_probable_path)\n"
   ]
  }
 ],
 "metadata": {
  "kernelspec": {
   "display_name": "cs144_env",
   "language": "python",
   "name": "python3"
  },
  "language_info": {
   "codemirror_mode": {
    "name": "ipython",
    "version": 3
   },
   "file_extension": ".py",
   "mimetype": "text/x-python",
   "name": "python",
   "nbconvert_exporter": "python",
   "pygments_lexer": "ipython3",
   "version": "3.12.1"
  }
 },
 "nbformat": 4,
 "nbformat_minor": 4
}
