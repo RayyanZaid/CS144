{
 "cells": [
  {
   "cell_type": "markdown",
   "metadata": {},
   "source": [
    "<hr style=\"height:5px;border-width:2;color:gray;background-color:#000000\"> \n",
    "<center><h1>CS 144 - Winter 2024 - Homework 5</h1></center>\n",
    "<center><h1>Due: Sunday, February 25, 2024 @ 11:59pm</h1></center>"
   ]
  },
  {
   "cell_type": "markdown",
   "metadata": {},
   "source": [
    "## Read *all* cells carefully and answer all parts (both text and code)"
   ]
  },
  {
   "cell_type": "markdown",
   "metadata": {},
   "source": [
    "### Enter your information below:\n",
    "\n",
    "<div style=\"color: #000000;background-color: #EEEEFF\">\n",
    "    Your Name (submitter): Rayyan Zaid <br>\n",
    "    Your student ID (submitter): 862291205\n",
    "<br>\n",
    "<br>\n",
    "<b>By submitting this notebook, I assert that the work below is my own work, completed for this course.  Except where explicitly cited, none of the portions of this notebook are duplicated from anyone else's work or my own previous work.</b>\n",
    "<br>    \n",
    "<br>\n",
    "<b>Instruction for submissions:</B> when you have completed this homework, download this .ipynb file to your computer by left-clicking on the file name, and submit to <a href=\"https://elearn.ucr.edu/\">Canvas</A> by the deadline. \n",
    "<br>\n",
    "<br>\n",
    "<B>Late work:</B> Each student is granted five \"late days\" which can be used (in integer units) on any of the homework. If a more dire situation arises, please contact the instructor. DO NOT RESORT TO CHEATING.\n",
    "</div>\n"
   ]
  },
  {
   "cell_type": "markdown",
   "metadata": {},
   "source": [
    "In the interest of time, we will <b>skip</b> the following coding challenges on Chapter 4 in the book\n",
    "<UL>\n",
    "<LI><A HREF=\"https://cogniterra.org/lesson/33965/step/3?unit=25811\">Solve the String Composition Problem</A></LI>\n",
    "<LI><A HREF=\"https://cogniterra.org/lesson/33966/step/3?unit=25812\">Solve the String Spelled by a Genome Path Problem</A></LI>\n",
    "<LI><A HREF=\"https://cogniterra.org/lesson/33966/step/10?unit=25812\">Solve the Overlap Graph Problem</A></LI>\n",
    "<LI><A HREF=\"https://cogniterra.org/lesson/33967/step/6?unit=25813\">Solve the De Bruijn Graph from a String Problem</A></LI>\n",
    "<LI><A HREF=\"https://cogniterra.org/lesson/33971/step/2?unit=25817\">Solve the Eulerian Cycle Problem</A></LI>\n",
    "<LI><A HREF=\"https://cogniterra.org/lesson/33971/step/11?unit=25817\">Solve the k-Universal Circular String Problem</A></LI>\n",
    "<LI><A HREF=\"https://cogniterra.org/lesson/33972/step/16?unit=25818\">Solve the String Reconstruction from Read-Pairs Problem</A></LI>\n",
    "<LI><A HREF=\"https://cogniterra.org/lesson/33973/step/5?unit=25819\">Solve the Contig Generation Problem</A></LI>\n",
    "<LI><A HREF=\"https://cogniterra.org/lesson/33976/step/4?unit=25822\">Implement StringSpelledByGappedPatterns</A></LI>\n",
    "<LI><A HREF=\"https://cogniterra.org/lesson/33977/step/2?unit=25823\">Implement MaximalNonBranchingPaths</A></LI>\n",
    "</UL>\n",
    "Those challenges above are OPTIONAL. They are good problems, but you do not need to solve it, unless you feel inclined to do so.\n"
   ]
  },
  {
   "cell_type": "markdown",
   "metadata": {},
   "source": [
    "<hr style=\"height:5px;border-width:2;color:gray;background-color:#000000\"> \n",
    "<center><h1>Building the <i>de Bruijn</i> graph</h1></center>\n",
    "<br>\n",
    "\n",
    "In this homework we will build a simple assembler from (very) short reads, step by step. We will start from building the de Bruijn graph from the list of short reads."
   ]
  },
  {
   "cell_type": "markdown",
   "metadata": {},
   "source": [
    "<div style=\"color: #000000;background-color: #EEFFEE\">\n",
    "    <font size=+2>Question 1:</font> <font size=+1>(10 points)</font>\n",
    "\n",
    "Solve the <A HREF=\"https://cogniterra.org/lesson/33968/step/8?unit=25814\">de Bruijn Graph from k-mers Problem</A>. Submit your solution to the challenge on Cogniterra and paste your Python code below.\n",
    "    \n",
    "Please note that you are <B>not</B> supposed to compute the overlaps between the k-mers (reads). I made that mistake when solving this problem and wasted several hours on this question. This is your task: for each string $X$ (of length $k$) in the input file you need to get its $(k-1)$-long prefix $P$ and its $(k-1)$-long suffix $S$, then add an edge $P \\rightarrow S$ to the directed graph. That's all.\n",
    "\n",
    "Notes:\n",
    "<UL>\n",
    "    <LI>You can use the Python <A href=\"https://networkx.org/documentation/stable/\">networkx package</A> to build and process the graph</LI>\n",
    "    <LI>You should use a <A href=\"https://networkx.org/documentation/stable/tutorial.html#multigraphs\">directed multi-graph</A> because you can have multiple edges between the same two nodes</LI>\n",
    "    <LI>You can assume that the input is formatted correctly, and you need to format the output exactly as requested</LI>\n",
    "    <LI>The wget below fetches the Cogniterra example input file</LI>\n",
    "</UL>\n",
    "</div>"
   ]
  },
  {
   "cell_type": "code",
   "execution_count": 23,
   "metadata": {},
   "outputs": [
    {
     "name": "stderr",
     "output_type": "stream",
     "text": [
      "--2024-02-24 01:22:55--  http://www.cs.ucr.edu/~stelo/cs144winter24/data/hw5_test1.txt\n",
      "Resolving www.cs.ucr.edu (www.cs.ucr.edu)... 169.235.30.15\n",
      "Connecting to www.cs.ucr.edu (www.cs.ucr.edu)|169.235.30.15|:80... connected.\n",
      "HTTP request sent, awaiting response... 200 OK\n",
      "Length: 35 [text/plain]\n",
      "Saving to: 'hw5_test1.txt.1'\n",
      "\n",
      "     0K                                                       100%  717K=0s\n",
      "\n",
      "2024-02-24 01:22:55 (717 KB/s) - 'hw5_test1.txt.1' saved [35/35]\n",
      "\n"
     ]
    }
   ],
   "source": [
    "!wget http://www.cs.ucr.edu/~stelo/cs144winter24/data/hw5_test1.txt"
   ]
  },
  {
   "cell_type": "code",
   "execution_count": 24,
   "metadata": {},
   "outputs": [
    {
     "name": "stdout",
     "output_type": "stream",
     "text": [
      "AGG -> GGG\n",
      "CAG -> AGG,AGG\n",
      "GAG -> AGG\n",
      "GGA -> GAG\n",
      "GGG -> GGA,GGG\n"
     ]
    }
   ],
   "source": [
    "# networkx only\n",
    "import networkx as nx\n",
    "\n",
    "def deBruijn(lines):\n",
    "    \"\"\" Takes in input a list of strings l of length k and\n",
    "        returns a deBruijn multi-edge directed graph \"\"\"\n",
    "    g = nx.MultiDiGraph()  # we need directed multigraph because we can have multiple edges between two nodes\n",
    "    \n",
    "    k = len(lines[0])\n",
    "    \n",
    "    for eachKmer in lines:\n",
    "        first = eachKmer[:k-1]\n",
    "        second = eachKmer[1:]\n",
    "        g.add_edge(first, second)\n",
    "\n",
    "    return g\n",
    "\n",
    "with open(\"hw5_test1.txt\", \"r\") as f: \n",
    "    w = [line.rstrip() for line in f]\n",
    "g = deBruijn(w)  \n",
    "\n",
    "\n",
    "for node in sorted(g.nodes()):\n",
    "    adjList = g.adj[node]\n",
    "    adjStringList = []\n",
    "\n",
    "\n",
    "    for eachNeighbor, edges in adjList.items():\n",
    "        adjStringList.extend([eachNeighbor] * len(edges))  # Add each neighbor as many times as there are edges\n",
    "\n",
    "\n",
    "    adjString = \",\".join(sorted(adjStringList))\n",
    "\n",
    "    if adjString:\n",
    "        print(f\"{node} -> {adjString}\")\n",
    "\n",
    "\n"
   ]
  },
  {
   "cell_type": "markdown",
   "metadata": {},
   "source": [
    "<hr style=\"height:5px;border-width:2;color:gray;background-color:#000000\"> \n",
    "<center><h1>Eulerian Paths</h1></center> \n",
    "<br>\n",
    "\n",
    "The second step is to implement code to find Eulerian paths in graphs."
   ]
  },
  {
   "cell_type": "markdown",
   "metadata": {},
   "source": [
    "<div style=\"color: #000000;background-color: #EEFFEE\">\n",
    "    <font size=+2>Question 2:</font> <font size=+1>(10 points)</font>\n",
    "\n",
    "Solve the <A HREF=\"https://cogniterra.org/lesson/33971/step/6?unit=25817\">Eulerian Path Problem</A>. Submit your solution to the challenge on Cogniterra and paste your Python code below.\n",
    "\n",
    "Notes:\n",
    "<UL>\n",
    "<LI>You are allowed to use any function available from the <A HREF=\"https://networkx.org/documentation/stable/\">networkx package</A> to process the graph</LI>\n",
    "<LI>You can assume that the input is formatted correctly, but you need to format the output exactly as requested</LI>\n",
    "<LI>The wget below fetches the Cogniterra example input file</LI>\n",
    "</UL>\n",
    "</div>"
   ]
  },
  {
   "cell_type": "code",
   "execution_count": 25,
   "metadata": {},
   "outputs": [
    {
     "name": "stderr",
     "output_type": "stream",
     "text": [
      "--2024-02-24 01:22:55--  http://www.cs.ucr.edu/~stelo/cs144winter24/data/hw5_test2.txt\n",
      "Resolving www.cs.ucr.edu (www.cs.ucr.edu)... 169.235.30.15\n",
      "Connecting to www.cs.ucr.edu (www.cs.ucr.edu)|169.235.30.15|:80... connected.\n",
      "HTTP request sent, awaiting response... 200 OK\n",
      "Length: 60 [text/plain]\n",
      "Saving to: 'hw5_test2.txt.1'\n",
      "\n",
      "     0K                                                       100% 1.37M=0s\n",
      "\n",
      "2024-02-24 01:22:55 (1.37 MB/s) - 'hw5_test2.txt.1' saved [60/60]\n",
      "\n"
     ]
    }
   ],
   "source": [
    "!wget http://www.cs.ucr.edu/~stelo/cs144winter24/data/hw5_test2.txt"
   ]
  },
  {
   "cell_type": "code",
   "execution_count": 26,
   "metadata": {},
   "outputs": [
    {
     "name": "stdout",
     "output_type": "stream",
     "text": [
      "6->7->8->9->6->3->0->2->1->3->4\n"
     ]
    }
   ],
   "source": [
    "## networkx only\n",
    "\n",
    "## YOUR CODE HERE\n",
    "## Build the graph G using nx by parsing the input file (edge list)\n",
    "## Find an Eulerian path on G using nx, and print the path according to the specified format\n",
    "\n",
    "import networkx as nx\n",
    "\n",
    "with open(\"hw5_test2.txt\", \"r\") as f: # open the file\n",
    "    inputArray = [line.rstrip() for line in f] # read the words\n",
    "\n",
    "\n",
    "# print(inputArray)\n",
    "def extract_numbers(s):\n",
    "\n",
    "    left, right = s.split('->')\n",
    "    \n",
    "\n",
    "    left = left.strip()\n",
    "    right = right.strip()\n",
    "    \n",
    "    # Split the right part based on commas to get all numbers into a list\n",
    "    right_numbers = right.split(',')\n",
    "\n",
    "    return left, right_numbers\n",
    "\n",
    "def createGraph(inputArray : list[str]):\n",
    "\n",
    "\n",
    "    g = nx.MultiDiGraph()\n",
    "\n",
    "    # where eachEdgeString is in a format like: \"1 --> 3,8\"\n",
    "    for eachEdgeString in inputArray:\n",
    "\n",
    "        node, neighbors = extract_numbers(eachEdgeString)\n",
    "\n",
    "        for eachNeighbor in neighbors:\n",
    "\n",
    "            g.add_edge(node, eachNeighbor)\n",
    "        \n",
    "\n",
    "    return g\n",
    "\n",
    "\n",
    "def EulerianPath(nxGraph):\n",
    "\n",
    "    path = list(nx.eulerian_path(nxGraph))  \n",
    "\n",
    "    formatted_path_list = []\n",
    "\n",
    "    for edge in path:\n",
    "        \n",
    "        formatted_path_list.append(str(edge[0]))\n",
    "\n",
    "\n",
    "    formatted_path_list.append(str(path[-1][1]))\n",
    "\n",
    "    # Inserts -> between each pair of numbers\n",
    "    formatted_path = \"->\".join(formatted_path_list)\n",
    "\n",
    "    return formatted_path\n",
    "        \n",
    "\n",
    "\n",
    "\n",
    "\n",
    "nxGraph : nx.MultiDiGraph = createGraph(inputArray)\n",
    "\n",
    "path = EulerianPath(nxGraph)\n",
    "\n",
    "print(path)\n",
    "\n"
   ]
  },
  {
   "cell_type": "markdown",
   "metadata": {},
   "source": [
    "<hr style=\"height:5px;border-width:2;color:gray;background-color:#000000\"> \n",
    "<center><h1>Assembly</h1></center>\n",
    "<br>\n",
    "\n",
    "In the last part we use the function we developed in Question 1 and Question 2 to re-assemble the \"genome\" from the list of k-mers (short reads)."
   ]
  },
  {
   "cell_type": "markdown",
   "metadata": {},
   "source": [
    "<DIV style=\"color: #000000;background-color: #EEFFEE\">\n",
    "    <font size=+2>Question 3</font> <font size=+1>(10 points)</font>\n",
    "    \n",
    "Use the code for Question 1 and Question 2 to <A HREF=\"https://cogniterra.org/lesson/33971/step/7?unit=25817\">Solve the String Reconstruction Problem.</A> Submit your solution to the challenge on Cogniterra and paste your Python code below.\n",
    "\n",
    "Notes:\n",
    "<UL>\n",
    "<LI>You are allowed to use any function available from <A href=\"https://networkx.org/documentation/stable/\">networkx package</A> to process the graph</LI>\n",
    "<LI>You can assume that the input is formatted correctly, but you need to format the output exactly as requested</LI>\n",
    "<LI>The wget below fetches the Cogniterra example input file</LI>\n",
    "</UL>\n",
    "</DIV>"
   ]
  },
  {
   "cell_type": "code",
   "execution_count": 27,
   "metadata": {},
   "outputs": [
    {
     "name": "stderr",
     "output_type": "stream",
     "text": [
      "--2024-02-24 01:22:55--  http://www.cs.ucr.edu/~stelo/cs144winter24/data/hw5_test3.txt\n",
      "Resolving www.cs.ucr.edu (www.cs.ucr.edu)... 169.235.30.15\n",
      "Connecting to www.cs.ucr.edu (www.cs.ucr.edu)|169.235.30.15|:80... connected.\n",
      "HTTP request sent, awaiting response... 200 OK\n",
      "Length: 32 [text/plain]\n",
      "Saving to: 'hw5_test3.txt.1'\n",
      "\n",
      "     0K                                                       100%  433K=0s\n",
      "\n",
      "2024-02-24 01:22:55 (433 KB/s) - 'hw5_test3.txt.1' saved [32/32]\n",
      "\n"
     ]
    }
   ],
   "source": [
    "!wget http://www.cs.ucr.edu/~stelo/cs144winter24/data/hw5_test3.txt"
   ]
  },
  {
   "cell_type": "code",
   "execution_count": 28,
   "metadata": {},
   "outputs": [
    {
     "name": "stdout",
     "output_type": "stream",
     "text": [
      "GGCTTACCA\n"
     ]
    }
   ],
   "source": [
    "## networkx only\n",
    "import networkx as nx\n",
    "\n",
    "with open(\"hw5_test3.txt\", \"r\") as f: # open the file\n",
    "    l = [line.rstrip() for line in f] # read everything\n",
    "k = int(l[0])                         # get the kmer \n",
    "w = l[1:]                             # get the reads/words  \n",
    "g = deBruijn(w)                       # build the deBruijn graph\n",
    "\n",
    "def pathToGenome(path: str) -> str:\n",
    "\n",
    "    segments = path.split(\"->\")\n",
    "    \n",
    "\n",
    "    genome = segments[0]\n",
    "    \n",
    "\n",
    "    for segment in segments[1:]:\n",
    "        genome += segment[-1]\n",
    "    \n",
    "    return genome\n",
    "path = EulerianPath(g)\n",
    "# print(path)\n",
    "genome = pathToGenome(path)\n",
    "print(genome)\n",
    "\n",
    "\n",
    "    \n"
   ]
  }
 ],
 "metadata": {
  "kernelspec": {
   "display_name": "cs144_env",
   "language": "python",
   "name": "python3"
  },
  "language_info": {
   "codemirror_mode": {
    "name": "ipython",
    "version": 3
   },
   "file_extension": ".py",
   "mimetype": "text/x-python",
   "name": "python",
   "nbconvert_exporter": "python",
   "pygments_lexer": "ipython3",
   "version": "3.12.1"
  }
 },
 "nbformat": 4,
 "nbformat_minor": 4
}
